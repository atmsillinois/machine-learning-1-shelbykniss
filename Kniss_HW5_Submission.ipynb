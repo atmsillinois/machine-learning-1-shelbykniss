{
 "cells": [
  {
   "cell_type": "code",
   "execution_count": 1,
   "metadata": {},
   "outputs": [],
   "source": [
    "import pandas as pd\n",
    "import matplotlib.pyplot as plt\n",
    "import numpy as np\n",
    "from sklearn.model_selection import train_test_split\n",
    "import seaborn as sns"
   ]
  },
  {
   "cell_type": "code",
   "execution_count": 2,
   "metadata": {},
   "outputs": [
    {
     "data": {
      "text/html": [
       "<div>\n",
       "<style scoped>\n",
       "    .dataframe tbody tr th:only-of-type {\n",
       "        vertical-align: middle;\n",
       "    }\n",
       "\n",
       "    .dataframe tbody tr th {\n",
       "        vertical-align: top;\n",
       "    }\n",
       "\n",
       "    .dataframe thead th {\n",
       "        text-align: right;\n",
       "    }\n",
       "</style>\n",
       "<table border=\"1\" class=\"dataframe\">\n",
       "  <thead>\n",
       "    <tr style=\"text-align: right;\">\n",
       "      <th></th>\n",
       "      <th>Unnamed: 0</th>\n",
       "      <th>Zh (dBZ)</th>\n",
       "      <th>Zdr (dB)</th>\n",
       "      <th>Ldr (dB)</th>\n",
       "      <th>Kdp (deg km-1)</th>\n",
       "      <th>Ah (dBZ/km)</th>\n",
       "      <th>Adr (dB/km)</th>\n",
       "      <th>R (mm/hr)</th>\n",
       "    </tr>\n",
       "  </thead>\n",
       "  <tbody>\n",
       "    <tr>\n",
       "      <th>0</th>\n",
       "      <td>0</td>\n",
       "      <td>23.144878</td>\n",
       "      <td>0.418637</td>\n",
       "      <td>-41.757733</td>\n",
       "      <td>0.005395</td>\n",
       "      <td>0.000290</td>\n",
       "      <td>0.000012</td>\n",
       "      <td>2.393520</td>\n",
       "    </tr>\n",
       "    <tr>\n",
       "      <th>1</th>\n",
       "      <td>1</td>\n",
       "      <td>22.737156</td>\n",
       "      <td>0.322850</td>\n",
       "      <td>-43.772069</td>\n",
       "      <td>0.005194</td>\n",
       "      <td>0.000360</td>\n",
       "      <td>0.000012</td>\n",
       "      <td>3.502699</td>\n",
       "    </tr>\n",
       "    <tr>\n",
       "      <th>2</th>\n",
       "      <td>2</td>\n",
       "      <td>26.869826</td>\n",
       "      <td>0.330948</td>\n",
       "      <td>-43.577399</td>\n",
       "      <td>0.013385</td>\n",
       "      <td>0.000903</td>\n",
       "      <td>0.000030</td>\n",
       "      <td>8.627561</td>\n",
       "    </tr>\n",
       "    <tr>\n",
       "      <th>3</th>\n",
       "      <td>3</td>\n",
       "      <td>28.540561</td>\n",
       "      <td>0.399480</td>\n",
       "      <td>-42.139731</td>\n",
       "      <td>0.018872</td>\n",
       "      <td>0.001036</td>\n",
       "      <td>0.000043</td>\n",
       "      <td>8.424447</td>\n",
       "    </tr>\n",
       "    <tr>\n",
       "      <th>4</th>\n",
       "      <td>4</td>\n",
       "      <td>30.500127</td>\n",
       "      <td>0.543758</td>\n",
       "      <td>-39.763087</td>\n",
       "      <td>0.027438</td>\n",
       "      <td>0.001157</td>\n",
       "      <td>0.000064</td>\n",
       "      <td>8.189291</td>\n",
       "    </tr>\n",
       "  </tbody>\n",
       "</table>\n",
       "</div>"
      ],
      "text/plain": [
       "   Unnamed: 0   Zh (dBZ)  Zdr (dB)   Ldr (dB)  Kdp (deg km-1)  Ah (dBZ/km)  \\\n",
       "0           0  23.144878  0.418637 -41.757733        0.005395     0.000290   \n",
       "1           1  22.737156  0.322850 -43.772069        0.005194     0.000360   \n",
       "2           2  26.869826  0.330948 -43.577399        0.013385     0.000903   \n",
       "3           3  28.540561  0.399480 -42.139731        0.018872     0.001036   \n",
       "4           4  30.500127  0.543758 -39.763087        0.027438     0.001157   \n",
       "\n",
       "   Adr (dB/km)  R (mm/hr)  \n",
       "0     0.000012   2.393520  \n",
       "1     0.000012   3.502699  \n",
       "2     0.000030   8.627561  \n",
       "3     0.000043   8.424447  \n",
       "4     0.000064   8.189291  "
      ]
     },
     "execution_count": 2,
     "metadata": {},
     "output_type": "execute_result"
    }
   ],
   "source": [
    "data = pd.read_csv('radar_parameters.csv')\n",
    "data.head()"
   ]
  },
  {
   "cell_type": "code",
   "execution_count": 3,
   "metadata": {},
   "outputs": [],
   "source": [
    "Z = (10**data['Zh (dBZ)'])**(1/10) #solve for Z from dBz using dBZ = 10log(Z) \n",
    "R_base = (Z/200)**(1/1.6) #solve for baseline rain rate using Z = 200R**1.6"
   ]
  },
  {
   "cell_type": "code",
   "execution_count": 4,
   "metadata": {},
   "outputs": [],
   "source": [
    "#add those columns to dataframe to ensure they line up with the proper index when we split the data later\n",
    "data['R_base'] = R_base\n",
    "data['Z'] = Z"
   ]
  },
  {
   "cell_type": "code",
   "execution_count": 5,
   "metadata": {},
   "outputs": [
    {
     "data": {
      "text/html": [
       "<div>\n",
       "<style scoped>\n",
       "    .dataframe tbody tr th:only-of-type {\n",
       "        vertical-align: middle;\n",
       "    }\n",
       "\n",
       "    .dataframe tbody tr th {\n",
       "        vertical-align: top;\n",
       "    }\n",
       "\n",
       "    .dataframe thead th {\n",
       "        text-align: right;\n",
       "    }\n",
       "</style>\n",
       "<table border=\"1\" class=\"dataframe\">\n",
       "  <thead>\n",
       "    <tr style=\"text-align: right;\">\n",
       "      <th></th>\n",
       "      <th>Unnamed: 0</th>\n",
       "      <th>Zh (dBZ)</th>\n",
       "      <th>Zdr (dB)</th>\n",
       "      <th>Ldr (dB)</th>\n",
       "      <th>Kdp (deg km-1)</th>\n",
       "      <th>Ah (dBZ/km)</th>\n",
       "      <th>Adr (dB/km)</th>\n",
       "      <th>R (mm/hr)</th>\n",
       "      <th>R_base</th>\n",
       "      <th>Z</th>\n",
       "    </tr>\n",
       "  </thead>\n",
       "  <tbody>\n",
       "    <tr>\n",
       "      <th>0</th>\n",
       "      <td>0</td>\n",
       "      <td>23.144878</td>\n",
       "      <td>0.418637</td>\n",
       "      <td>-41.757733</td>\n",
       "      <td>0.005395</td>\n",
       "      <td>0.00029</td>\n",
       "      <td>0.000012</td>\n",
       "      <td>2.393520</td>\n",
       "      <td>1.019556</td>\n",
       "      <td>206.294563</td>\n",
       "    </tr>\n",
       "    <tr>\n",
       "      <th>1</th>\n",
       "      <td>1</td>\n",
       "      <td>22.737156</td>\n",
       "      <td>0.322850</td>\n",
       "      <td>-43.772069</td>\n",
       "      <td>0.005194</td>\n",
       "      <td>0.00036</td>\n",
       "      <td>0.000012</td>\n",
       "      <td>3.502699</td>\n",
       "      <td>0.961454</td>\n",
       "      <td>187.808651</td>\n",
       "    </tr>\n",
       "  </tbody>\n",
       "</table>\n",
       "</div>"
      ],
      "text/plain": [
       "   Unnamed: 0   Zh (dBZ)  Zdr (dB)   Ldr (dB)  Kdp (deg km-1)  Ah (dBZ/km)  \\\n",
       "0           0  23.144878  0.418637 -41.757733        0.005395      0.00029   \n",
       "1           1  22.737156  0.322850 -43.772069        0.005194      0.00036   \n",
       "\n",
       "   Adr (dB/km)  R (mm/hr)    R_base           Z  \n",
       "0     0.000012   2.393520  1.019556  206.294563  \n",
       "1     0.000012   3.502699  0.961454  187.808651  "
      ]
     },
     "execution_count": 5,
     "metadata": {},
     "output_type": "execute_result"
    }
   ],
   "source": [
    "data.head(2)"
   ]
  },
  {
   "cell_type": "code",
   "execution_count": 6,
   "metadata": {},
   "outputs": [],
   "source": [
    "# Create feature matrix and target array\n",
    "features = data.drop('R (mm/hr)', axis=1)\n",
    "\n",
    "target = data['R (mm/hr)']"
   ]
  },
  {
   "cell_type": "markdown",
   "metadata": {},
   "source": [
    "1) Split the data into 70-30 chunks for training and testing"
   ]
  },
  {
   "cell_type": "code",
   "execution_count": 7,
   "metadata": {},
   "outputs": [],
   "source": [
    "Ftrain, Ftest, Ttrain, Ttest = train_test_split(features, target,\n",
    "                                                random_state=1)"
   ]
  },
  {
   "cell_type": "code",
   "execution_count": 8,
   "metadata": {},
   "outputs": [
    {
     "data": {
      "text/html": [
       "<div>\n",
       "<style scoped>\n",
       "    .dataframe tbody tr th:only-of-type {\n",
       "        vertical-align: middle;\n",
       "    }\n",
       "\n",
       "    .dataframe tbody tr th {\n",
       "        vertical-align: top;\n",
       "    }\n",
       "\n",
       "    .dataframe thead th {\n",
       "        text-align: right;\n",
       "    }\n",
       "</style>\n",
       "<table border=\"1\" class=\"dataframe\">\n",
       "  <thead>\n",
       "    <tr style=\"text-align: right;\">\n",
       "      <th></th>\n",
       "      <th>Unnamed: 0</th>\n",
       "      <th>Zh (dBZ)</th>\n",
       "      <th>Zdr (dB)</th>\n",
       "      <th>Ldr (dB)</th>\n",
       "      <th>Kdp (deg km-1)</th>\n",
       "      <th>Ah (dBZ/km)</th>\n",
       "      <th>Adr (dB/km)</th>\n",
       "      <th>R_base</th>\n",
       "      <th>Z</th>\n",
       "    </tr>\n",
       "  </thead>\n",
       "  <tbody>\n",
       "    <tr>\n",
       "      <th>4116</th>\n",
       "      <td>4116</td>\n",
       "      <td>41.956799</td>\n",
       "      <td>1.550639</td>\n",
       "      <td>-31.883942</td>\n",
       "      <td>0.22322</td>\n",
       "      <td>0.003664</td>\n",
       "      <td>0.000647</td>\n",
       "      <td>15.281156</td>\n",
       "      <td>15692.059091</td>\n",
       "    </tr>\n",
       "  </tbody>\n",
       "</table>\n",
       "</div>"
      ],
      "text/plain": [
       "      Unnamed: 0   Zh (dBZ)  Zdr (dB)   Ldr (dB)  Kdp (deg km-1)  Ah (dBZ/km)  \\\n",
       "4116        4116  41.956799  1.550639 -31.883942         0.22322     0.003664   \n",
       "\n",
       "      Adr (dB/km)     R_base             Z  \n",
       "4116     0.000647  15.281156  15692.059091  "
      ]
     },
     "execution_count": 8,
     "metadata": {},
     "output_type": "execute_result"
    }
   ],
   "source": [
    "Ftrain.head(1)"
   ]
  },
  {
   "cell_type": "code",
   "execution_count": 9,
   "metadata": {},
   "outputs": [],
   "source": [
    "#Separate R baseline and calculated Z values from the feature matrices for training and testing sets\n",
    "#so they are not taken into account for the linear regression\n",
    "R_base_train = Ftrain['R_base']\n",
    "Ftrain_new = Ftrain.drop(['R_base', 'Z'], axis=1)\n",
    "R_base_test = Ftest['R_base']\n",
    "Ftest_new = Ftest.drop(['R_base', 'Z'], axis=1)"
   ]
  },
  {
   "cell_type": "markdown",
   "metadata": {},
   "source": [
    "2) Train/validate a linear regression model using data from 1 and compare R2 and RMSE values for the model vs. test target values and baseline rain rate calculation vs. test target values to see which predicts the target values better."
   ]
  },
  {
   "cell_type": "code",
   "execution_count": 10,
   "metadata": {},
   "outputs": [],
   "source": [
    "from sklearn.linear_model import LinearRegression #choose model class\n",
    "\n",
    "model = LinearRegression(fit_intercept=True) #instantiate model\n",
    "\n",
    "model.fit(Ftrain_new, Ttrain) #fit model to data\n",
    "\n",
    "lin_pred = model.predict(Ftest_new)"
   ]
  },
  {
   "cell_type": "code",
   "execution_count": 13,
   "metadata": {},
   "outputs": [
    {
     "name": "stdout",
     "output_type": "stream",
     "text": [
      "Model R2 =  0.9905267626588338\n",
      "Baseline prediction calculation R2 =  0.2249639377726802\n",
      "Model RMSE =  0.8817146505998322\n",
      "Baseline prediction calculation RMSE =  7.06713305880775\n"
     ]
    }
   ],
   "source": [
    "from sklearn.metrics import r2_score\n",
    "from sklearn.metrics import mean_squared_error\n",
    "\n",
    "lin_r2 = r2_score(lin_pred, Ttest) #calculate R2 between target test data and model\n",
    "base_r2 = r2_score(R_base_test, Ttest) #calculate R2 between baseline prediction equation and model\n",
    "lin_RMSE = mean_squared_error(lin_pred, Ttest,  squared=False)\n",
    "base_RMSE = mean_squared_error(R_base_test, Ttest, squared=False)\n",
    "\n",
    "print('Model R2 = ',lin_r2)\n",
    "print('Baseline prediction calculation R2 = ',base_r2)\n",
    "print('Model RMSE = ', lin_RMSE) \n",
    "print('Baseline prediction calculation RMSE = ', base_RMSE)"
   ]
  },
  {
   "cell_type": "markdown",
   "metadata": {},
   "source": [
    "Based on the score values, the model did a much better job predicting the target values than a baseline rain rate calculation"
   ]
  },
  {
   "cell_type": "code",
   "execution_count": null,
   "metadata": {},
   "outputs": [],
   "source": []
  }
 ],
 "metadata": {
  "kernelspec": {
   "display_name": "ATMS_523",
   "language": "python",
   "name": "python3"
  },
  "language_info": {
   "codemirror_mode": {
    "name": "ipython",
    "version": 3
   },
   "file_extension": ".py",
   "mimetype": "text/x-python",
   "name": "python",
   "nbconvert_exporter": "python",
   "pygments_lexer": "ipython3",
   "version": "3.12.2"
  }
 },
 "nbformat": 4,
 "nbformat_minor": 2
}
